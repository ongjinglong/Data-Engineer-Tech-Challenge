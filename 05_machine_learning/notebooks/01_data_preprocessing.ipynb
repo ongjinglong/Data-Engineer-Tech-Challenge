{
  "cells": [
    {
      "cell_type": "code",
      "execution_count": 25,
      "metadata": {
        "id": "0vdAxsJn1PWr"
      },
      "outputs": [],
      "source": [
        "# importing packages\n",
        "\n",
        "import pandas as pd\n",
        "import numpy as np\n",
        "\n",
        "from sklearn.preprocessing import OneHotEncoder, LabelEncoder\n",
        "from sklearn.model_selection import train_test_split\n",
        "\n",
        "from collections import Counter\n",
        "\n",
        "import pickle"
      ]
    },
    {
      "cell_type": "code",
      "execution_count": 26,
      "metadata": {
        "id": "gC8P5JxX1R0I"
      },
      "outputs": [
        {
          "data": {
            "text/html": [
              "<div>\n",
              "<style scoped>\n",
              "    .dataframe tbody tr th:only-of-type {\n",
              "        vertical-align: middle;\n",
              "    }\n",
              "\n",
              "    .dataframe tbody tr th {\n",
              "        vertical-align: top;\n",
              "    }\n",
              "\n",
              "    .dataframe thead th {\n",
              "        text-align: right;\n",
              "    }\n",
              "</style>\n",
              "<table border=\"1\" class=\"dataframe\">\n",
              "  <thead>\n",
              "    <tr style=\"text-align: right;\">\n",
              "      <th></th>\n",
              "      <th>buying</th>\n",
              "      <th>maint</th>\n",
              "      <th>doors</th>\n",
              "      <th>persons</th>\n",
              "      <th>lug_boot</th>\n",
              "      <th>safety</th>\n",
              "      <th>class</th>\n",
              "    </tr>\n",
              "  </thead>\n",
              "  <tbody>\n",
              "    <tr>\n",
              "      <th>0</th>\n",
              "      <td>vhigh</td>\n",
              "      <td>vhigh</td>\n",
              "      <td>2</td>\n",
              "      <td>2</td>\n",
              "      <td>small</td>\n",
              "      <td>low</td>\n",
              "      <td>unacc</td>\n",
              "    </tr>\n",
              "    <tr>\n",
              "      <th>1</th>\n",
              "      <td>vhigh</td>\n",
              "      <td>vhigh</td>\n",
              "      <td>2</td>\n",
              "      <td>2</td>\n",
              "      <td>small</td>\n",
              "      <td>med</td>\n",
              "      <td>unacc</td>\n",
              "    </tr>\n",
              "    <tr>\n",
              "      <th>2</th>\n",
              "      <td>vhigh</td>\n",
              "      <td>vhigh</td>\n",
              "      <td>2</td>\n",
              "      <td>2</td>\n",
              "      <td>small</td>\n",
              "      <td>high</td>\n",
              "      <td>unacc</td>\n",
              "    </tr>\n",
              "    <tr>\n",
              "      <th>3</th>\n",
              "      <td>vhigh</td>\n",
              "      <td>vhigh</td>\n",
              "      <td>2</td>\n",
              "      <td>2</td>\n",
              "      <td>med</td>\n",
              "      <td>low</td>\n",
              "      <td>unacc</td>\n",
              "    </tr>\n",
              "    <tr>\n",
              "      <th>4</th>\n",
              "      <td>vhigh</td>\n",
              "      <td>vhigh</td>\n",
              "      <td>2</td>\n",
              "      <td>2</td>\n",
              "      <td>med</td>\n",
              "      <td>med</td>\n",
              "      <td>unacc</td>\n",
              "    </tr>\n",
              "  </tbody>\n",
              "</table>\n",
              "</div>"
            ],
            "text/plain": [
              "  buying  maint doors persons lug_boot safety  class\n",
              "0  vhigh  vhigh     2       2    small    low  unacc\n",
              "1  vhigh  vhigh     2       2    small    med  unacc\n",
              "2  vhigh  vhigh     2       2    small   high  unacc\n",
              "3  vhigh  vhigh     2       2      med    low  unacc\n",
              "4  vhigh  vhigh     2       2      med    med  unacc"
            ]
          },
          "execution_count": 26,
          "metadata": {},
          "output_type": "execute_result"
        }
      ],
      "source": [
        "# reading data\n",
        "\n",
        "df = pd.read_csv('../data/car.data', header=None)\n",
        "df.columns = ['buying','maint','doors','persons','lug_boot','safety','class']\n",
        "df.head()"
      ]
    },
    {
      "cell_type": "code",
      "execution_count": 27,
      "metadata": {},
      "outputs": [
        {
          "data": {
            "text/plain": [
              "buying      0\n",
              "maint       0\n",
              "doors       0\n",
              "persons     0\n",
              "lug_boot    0\n",
              "safety      0\n",
              "class       0\n",
              "dtype: int64"
            ]
          },
          "execution_count": 27,
          "metadata": {},
          "output_type": "execute_result"
        }
      ],
      "source": [
        "# check for missing data\n",
        "\n",
        "df.isna().sum()"
      ]
    },
    {
      "cell_type": "code",
      "execution_count": 28,
      "metadata": {},
      "outputs": [],
      "source": [
        "# split data into train_set and test_set\n",
        "\n",
        "train_set, test_set = train_test_split(df, test_size=0.2, random_state=42, stratify=df['buying'])"
      ]
    },
    {
      "cell_type": "code",
      "execution_count": 29,
      "metadata": {},
      "outputs": [],
      "source": [
        "# fit and transform train data using one hot encoder\n",
        "\n",
        "X_train = train_set.drop(['buying'], axis=1)\n",
        "y_train = train_set['buying'].reset_index(drop=True)\n",
        "\n",
        "enc = OneHotEncoder(sparse=False)\n",
        "X_train_transformed = enc.fit_transform(X_train)\n",
        "X_train_transformed = pd.DataFrame(X_train_transformed, columns=enc.get_feature_names_out(X_train.columns.values))\n",
        "\n",
        "yenc = LabelEncoder()\n",
        "y_train_transformed = yenc.fit_transform(y_train)\n",
        "y_train_transformed = pd.DataFrame(y_train_transformed, columns=['buying'])"
      ]
    },
    {
      "cell_type": "code",
      "execution_count": 30,
      "metadata": {},
      "outputs": [],
      "source": [
        "# transform test data using the same one hot encoder\n",
        "\n",
        "X_test = test_set.drop(['buying'], axis = 1)\n",
        "y_test = test_set['buying'].reset_index(drop=True)\n",
        "\n",
        "X_test_transformed = enc.transform(X_test)\n",
        "X_test_transformed = pd.DataFrame(X_test_transformed, columns=enc.get_feature_names_out(X_train.columns.values))\n",
        "\n",
        "y_test_transformed = yenc.fit_transform(y_test)\n",
        "y_test_transformed = pd.DataFrame(y_test_transformed, columns=['buying'])"
      ]
    },
    {
      "cell_type": "code",
      "execution_count": 31,
      "metadata": {},
      "outputs": [
        {
          "name": "stdout",
          "output_type": "stream",
          "text": [
            "Class=low, n=346 (25.036%)\n",
            "Class=vhigh, n=346 (25.036%)\n",
            "Class=med, n=345 (24.964%)\n",
            "Class=high, n=345 (24.964%)\n"
          ]
        }
      ],
      "source": [
        "# check for imbalance in train data\n",
        "\n",
        "counter = Counter(y_train)\n",
        "for k,v in counter.items():\n",
        "\tper = v / len(y_train) * 100\n",
        "\tprint('Class=%s, n=%d (%.3f%%)' % (k, v, per))\n",
        "\n",
        "# note: train data is well-balanced, no resampling methods required"
      ]
    },
    {
      "cell_type": "code",
      "execution_count": 32,
      "metadata": {},
      "outputs": [],
      "source": [
        "# save the model to disk\n",
        "\n",
        "filename = '../model/oneHotEncTransformer.sav'\n",
        "pickle.dump(enc, open(filename, 'wb'))\n",
        "\n",
        "filename = '../model/colEncTransformer.sav'\n",
        "pickle.dump(yenc, open(filename, 'wb'))"
      ]
    },
    {
      "cell_type": "code",
      "execution_count": 33,
      "metadata": {},
      "outputs": [
        {
          "data": {
            "text/plain": [
              "0         low\n",
              "1       vhigh\n",
              "2         low\n",
              "3         med\n",
              "4         med\n",
              "        ...  \n",
              "1377      low\n",
              "1378      low\n",
              "1379    vhigh\n",
              "1380     high\n",
              "1381      med\n",
              "Name: buying, Length: 1382, dtype: object"
            ]
          },
          "execution_count": 33,
          "metadata": {},
          "output_type": "execute_result"
        }
      ],
      "source": [
        "y_train"
      ]
    },
    {
      "cell_type": "code",
      "execution_count": 34,
      "metadata": {},
      "outputs": [],
      "source": [
        "# save data to disk\n",
        "\n",
        "X_train_transformed.to_csv('../data/X_train.csv', index=False)\n",
        "X_test_transformed.to_csv('../data/X_test.csv', index=False)\n",
        "\n",
        "y_train_transformed.to_csv('../data/y_train.csv', index=False)\n",
        "y_test_transformed.to_csv('../data/y_test.csv', index=False)"
      ]
    },
    {
      "cell_type": "code",
      "execution_count": null,
      "metadata": {},
      "outputs": [],
      "source": []
    }
  ],
  "metadata": {
    "colab": {
      "collapsed_sections": [],
      "name": "data_preprocessing.ipynb",
      "provenance": []
    },
    "kernelspec": {
      "display_name": "Python 3.8.13 ('machine_learning')",
      "language": "python",
      "name": "python3"
    },
    "language_info": {
      "codemirror_mode": {
        "name": "ipython",
        "version": 3
      },
      "file_extension": ".py",
      "mimetype": "text/x-python",
      "name": "python",
      "nbconvert_exporter": "python",
      "pygments_lexer": "ipython3",
      "version": "3.8.13"
    },
    "vscode": {
      "interpreter": {
        "hash": "4648bc61d8c9e50e2a1ee3d94774259d1ab156e6efc8ce33fa316e6d0c52f233"
      }
    }
  },
  "nbformat": 4,
  "nbformat_minor": 0
}
